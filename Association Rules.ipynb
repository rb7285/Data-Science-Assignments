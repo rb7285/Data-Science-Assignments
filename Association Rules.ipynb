{
 "cells": [
  {
   "cell_type": "code",
   "execution_count": 11,
   "id": "100e7a2c",
   "metadata": {},
   "outputs": [],
   "source": [
    "import pandas as pd \n",
    "import matplotlib.pyplot as plt \n",
    "import seaborn as sns \n",
    "import warnings \n",
    "warnings.filterwarnings('ignore')\n",
    "%matplotlib inline \n",
    "plt.rcParams['figure.figsize'] = (10,5)\n",
    "plt.rcParams['figure.dpi'] = 300"
   ]
  },
  {
   "cell_type": "markdown",
   "id": "a388e683",
   "metadata": {},
   "source": [
    "#### Data Preprocessing"
   ]
  },
  {
   "cell_type": "code",
   "execution_count": 12,
   "id": "ad8ed4e5",
   "metadata": {},
   "outputs": [
    {
     "data": {
      "text/html": [
       "<div>\n",
       "<style scoped>\n",
       "    .dataframe tbody tr th:only-of-type {\n",
       "        vertical-align: middle;\n",
       "    }\n",
       "\n",
       "    .dataframe tbody tr th {\n",
       "        vertical-align: top;\n",
       "    }\n",
       "\n",
       "    .dataframe thead th {\n",
       "        text-align: right;\n",
       "    }\n",
       "</style>\n",
       "<table border=\"1\" class=\"dataframe\">\n",
       "  <thead>\n",
       "    <tr style=\"text-align: right;\">\n",
       "      <th></th>\n",
       "      <th>shrimp,almonds,avocado,vegetables mix,green grapes,whole weat flour,yams,cottage cheese,energy drink,tomato juice,low fat yogurt,green tea,honey,salad,mineral water,salmon,antioxydant juice,frozen smoothie,spinach,olive oil</th>\n",
       "    </tr>\n",
       "  </thead>\n",
       "  <tbody>\n",
       "    <tr>\n",
       "      <th>0</th>\n",
       "      <td>burgers,meatballs,eggs</td>\n",
       "    </tr>\n",
       "    <tr>\n",
       "      <th>1</th>\n",
       "      <td>chutney</td>\n",
       "    </tr>\n",
       "    <tr>\n",
       "      <th>2</th>\n",
       "      <td>turkey,avocado</td>\n",
       "    </tr>\n",
       "    <tr>\n",
       "      <th>3</th>\n",
       "      <td>mineral water,milk,energy bar,whole wheat rice...</td>\n",
       "    </tr>\n",
       "    <tr>\n",
       "      <th>4</th>\n",
       "      <td>low fat yogurt</td>\n",
       "    </tr>\n",
       "  </tbody>\n",
       "</table>\n",
       "</div>"
      ],
      "text/plain": [
       "  shrimp,almonds,avocado,vegetables mix,green grapes,whole weat flour,yams,cottage cheese,energy drink,tomato juice,low fat yogurt,green tea,honey,salad,mineral water,salmon,antioxydant juice,frozen smoothie,spinach,olive oil\n",
       "0                             burgers,meatballs,eggs                                                                                                                                                                             \n",
       "1                                            chutney                                                                                                                                                                             \n",
       "2                                     turkey,avocado                                                                                                                                                                             \n",
       "3  mineral water,milk,energy bar,whole wheat rice...                                                                                                                                                                             \n",
       "4                                     low fat yogurt                                                                                                                                                                             "
      ]
     },
     "execution_count": 12,
     "metadata": {},
     "output_type": "execute_result"
    }
   ],
   "source": [
    "data = pd.read_csv('Online retail.csv')\n",
    "data.head()"
   ]
  },
  {
   "cell_type": "code",
   "execution_count": 13,
   "id": "01d3ad99",
   "metadata": {},
   "outputs": [
    {
     "name": "stdout",
     "output_type": "stream",
     "text": [
      "<class 'pandas.core.frame.DataFrame'>\n",
      "RangeIndex: 7500 entries, 0 to 7499\n",
      "Data columns (total 1 columns):\n",
      " #   Column                                                                                                                                                                                                                           Non-Null Count  Dtype \n",
      "---  ------                                                                                                                                                                                                                           --------------  ----- \n",
      " 0   shrimp,almonds,avocado,vegetables mix,green grapes,whole weat flour,yams,cottage cheese,energy drink,tomato juice,low fat yogurt,green tea,honey,salad,mineral water,salmon,antioxydant juice,frozen smoothie,spinach,olive oil  7500 non-null   object\n",
      "dtypes: object(1)\n",
      "memory usage: 58.7+ KB\n"
     ]
    }
   ],
   "source": [
    "data.info()"
   ]
  },
  {
   "cell_type": "code",
   "execution_count": 14,
   "id": "6b791d5e",
   "metadata": {},
   "outputs": [],
   "source": [
    "# Removing duplicates and standardize item names\n",
    "data.drop_duplicates(inplace=True)\n",
    "data['Transaction'] = data.iloc[:, 0].apply(lambda x: x.lower().split(','))"
   ]
  },
  {
   "cell_type": "code",
   "execution_count": 15,
   "id": "947c55ba",
   "metadata": {},
   "outputs": [],
   "source": [
    "# Tokenizing and cleaning each transaction\n",
    "data['Transaction'] = data['Transaction'].apply(lambda items: [item.strip() for item in items if item.strip()])"
   ]
  },
  {
   "cell_type": "code",
   "execution_count": 16,
   "id": "911a12f0",
   "metadata": {},
   "outputs": [],
   "source": [
    "# Converting the transaction data to a list of lists for encoding\n",
    "transactions = data['Transaction'].tolist()"
   ]
  },
  {
   "cell_type": "markdown",
   "id": "6ce53bb6",
   "metadata": {},
   "source": [
    "#### Association Rule Mining"
   ]
  },
  {
   "cell_type": "code",
   "execution_count": 17,
   "id": "60ee3705",
   "metadata": {},
   "outputs": [],
   "source": [
    "from mlxtend.preprocessing import TransactionEncoder\n",
    "from mlxtend.frequent_patterns import apriori, association_rules"
   ]
  },
  {
   "cell_type": "code",
   "execution_count": 18,
   "id": "edc61bc5",
   "metadata": {},
   "outputs": [],
   "source": [
    "encoder = TransactionEncoder()\n",
    "transaction_matrix = encoder.fit(transactions).transform(transactions)\n",
    "transaction_df = pd.DataFrame(transaction_matrix, columns=encoder.columns_)"
   ]
  },
  {
   "cell_type": "code",
   "execution_count": 19,
   "id": "8ca295da",
   "metadata": {},
   "outputs": [],
   "source": [
    "# Setting minimum support threshold\n",
    "min_support = 0.01\n",
    "frequent_itemsets = apriori(transaction_df, min_support=min_support, use_colnames=True)"
   ]
  },
  {
   "cell_type": "code",
   "execution_count": 22,
   "id": "60e0b51e",
   "metadata": {},
   "outputs": [],
   "source": [
    "# Association Rules Generation\n",
    "# Setting minimum thresholds for confidence and lift\n",
    "rules = association_rules(frequent_itemsets, metric=\"confidence\", min_threshold=0.5)\n",
    "rules = rules[rules['lift'] > 1]  # Filtering by lift > 1 to find meaningful associations"
   ]
  },
  {
   "cell_type": "code",
   "execution_count": 23,
   "id": "09a7f9d4",
   "metadata": {},
   "outputs": [
    {
     "name": "stdout",
     "output_type": "stream",
     "text": [
      "Frequent Itemsets:\n",
      "       support                               itemsets\n",
      "0    0.029179                              (almonds)\n",
      "1    0.011014                    (antioxydant juice)\n",
      "2    0.045797                              (avocado)\n",
      "3    0.012560                                (bacon)\n",
      "4    0.015459                       (barbecue sauce)\n",
      "..        ...                                    ...\n",
      "431  0.014686  (olive oil, mineral water, spaghetti)\n",
      "432  0.016618   (pancakes, mineral water, spaghetti)\n",
      "433  0.012367     (shrimp, mineral water, spaghetti)\n",
      "434  0.010821       (mineral water, soup, spaghetti)\n",
      "435  0.013527   (tomatoes, mineral water, spaghetti)\n",
      "\n",
      "[436 rows x 2 columns]\n",
      "\n",
      "Association Rules:\n",
      "                         antecedents      consequents  antecedent support  \\\n",
      "0              (chocolate, chicken)  (mineral water)            0.021256   \n",
      "1            (olive oil, chocolate)  (mineral water)            0.023575   \n",
      "2               (ground beef, eggs)  (mineral water)            0.028792   \n",
      "3  (ground beef, frozen vegetables)  (mineral water)            0.024541   \n",
      "4  (ground beef, frozen vegetables)      (spaghetti)            0.024541   \n",
      "5               (milk, ground beef)  (mineral water)            0.031691   \n",
      "6           (pancakes, ground beef)  (mineral water)            0.020870   \n",
      "7                 (milk, olive oil)  (mineral water)            0.024155   \n",
      "8                      (milk, soup)  (mineral water)            0.021449   \n",
      "9                 (soup, spaghetti)  (mineral water)            0.020676   \n",
      "\n",
      "   consequent support   support  confidence      lift  leverage  conviction  \\\n",
      "0            0.299710  0.011014    0.518182  1.728943  0.004644    1.453432   \n",
      "1            0.299710  0.011981    0.508197  1.695627  0.004915    1.423923   \n",
      "2            0.299710  0.014493    0.503356  1.679475  0.005863    1.410043   \n",
      "3            0.299710  0.013333    0.543307  1.812775  0.005978    1.533393   \n",
      "4            0.229565  0.012560    0.511811  2.229480  0.006927    1.578149   \n",
      "5            0.299710  0.016039    0.506098  1.688623  0.006541    1.417871   \n",
      "6            0.299710  0.010821    0.518519  1.730067  0.004566    1.454448   \n",
      "7            0.299710  0.012367    0.512000  1.708317  0.005128    1.435020   \n",
      "8            0.299710  0.012367    0.576577  1.923781  0.005939    1.653876   \n",
      "9            0.299710  0.010821    0.523364  1.746235  0.004624    1.469236   \n",
      "\n",
      "   zhangs_metric  \n",
      "0       0.430768  \n",
      "1       0.420153  \n",
      "2       0.416570  \n",
      "3       0.459640  \n",
      "4       0.565339  \n",
      "5       0.421148  \n",
      "6       0.430982  \n",
      "7       0.424892  \n",
      "8       0.490716  \n",
      "9       0.436362  \n"
     ]
    }
   ],
   "source": [
    "# Results\n",
    "print(\"Frequent Itemsets:\\n\", frequent_itemsets)\n",
    "print(\"\\nAssociation Rules:\\n\", rules)"
   ]
  },
  {
   "cell_type": "markdown",
   "id": "5259541f",
   "metadata": {},
   "source": [
    "#### Analysis And Interpretation "
   ]
  },
  {
   "cell_type": "code",
   "execution_count": 24,
   "id": "5c21275e",
   "metadata": {},
   "outputs": [
    {
     "data": {
      "text/plain": [
       "'\\nThe generated rules show that mineral water is frequently bought alongside a variety of items, indicating it as a staple \\nproduct. Spaghetti often appears with ground beef, vegetables, or other meal ingredients, suggesting it’s part of common meal\\ncombinations. Overall, popular combinations hint at customer preferences for balanced meals and versatile ingredients.\\n\\nThe results indicate that customers tend to buy mineral water with a wide range of items, suggesting it’s a frequent add-on. \\nMeal components like spaghetti, ground beef, and vegetables often appear together, showing a preference for easy meal prep \\ningredients. Overall, customers seem to favor versatile and complementary products, likely for convenient, balanced meal \\nplanning.\\n'"
      ]
     },
     "execution_count": 24,
     "metadata": {},
     "output_type": "execute_result"
    }
   ],
   "source": [
    "'''\n",
    "The generated rules show that mineral water is frequently bought alongside a variety of items, indicating it as a staple \n",
    "product. Spaghetti often appears with ground beef, vegetables, or other meal ingredients, suggesting it’s part of common meal\n",
    "combinations. Overall, popular combinations hint at customer preferences for balanced meals and versatile ingredients.\n",
    "\n",
    "The results indicate that customers tend to buy mineral water with a wide range of items, suggesting it’s a frequent add-on. \n",
    "Meal components like spaghetti, ground beef, and vegetables often appear together, showing a preference for easy meal prep \n",
    "ingredients. Overall, customers seem to favor versatile and complementary products, likely for convenient, balanced meal \n",
    "planning.\n",
    "'''"
   ]
  },
  {
   "cell_type": "markdown",
   "id": "0d8f5a76",
   "metadata": {},
   "source": [
    "#### Interview Questions"
   ]
  },
  {
   "cell_type": "code",
   "execution_count": 25,
   "id": "e7f6ea33",
   "metadata": {},
   "outputs": [
    {
     "data": {
      "text/plain": [
       "'\\n1. What is lift and why is it important in Association rules?\\n-> Lift measures the strength of an association rule compared to random chance, indicating the likelihood of one item occurring \\n   with another. A lift greater than 1 shows a positive association.\\n   \\n2. What is support and Confidence. How do you calculate them?\\n-> Support is the frequency of an itemset in the dataset, while Confidence indicates the reliability of a rule. They are \\n   calculated as:\\n   Support = (Transactions with itemset) / (Total transactions)\\n   Confidence = (Transactions with both A and B) / (Transactions with A)\\n   \\n3. What are some limitations or challenges of Association rules mining?\\n-> Challenges of Association Rule Mining include scalability, as larger datasets require more resources; interpretability, \\n   since many complex rules can emerge; and overfitting, where the model captures noise rather than genuine patterns.\\n'"
      ]
     },
     "execution_count": 25,
     "metadata": {},
     "output_type": "execute_result"
    }
   ],
   "source": [
    "'''\n",
    "1. What is lift and why is it important in Association rules?\n",
    "-> Lift measures the strength of an association rule compared to random chance, indicating the likelihood of one item occurring \n",
    "   with another. A lift greater than 1 shows a positive association.\n",
    "   \n",
    "2. What is support and Confidence. How do you calculate them?\n",
    "-> Support is the frequency of an itemset in the dataset, while Confidence indicates the reliability of a rule. They are \n",
    "   calculated as:\n",
    "   Support = (Transactions with itemset) / (Total transactions)\n",
    "   Confidence = (Transactions with both A and B) / (Transactions with A)\n",
    "   \n",
    "3. What are some limitations or challenges of Association rules mining?\n",
    "-> Challenges of Association Rule Mining include scalability, as larger datasets require more resources; interpretability, \n",
    "   since many complex rules can emerge; and overfitting, where the model captures noise rather than genuine patterns.\n",
    "'''"
   ]
  },
  {
   "cell_type": "code",
   "execution_count": null,
   "id": "8d70344f",
   "metadata": {},
   "outputs": [],
   "source": []
  }
 ],
 "metadata": {
  "kernelspec": {
   "display_name": "Python 3 (ipykernel)",
   "language": "python",
   "name": "python3"
  },
  "language_info": {
   "codemirror_mode": {
    "name": "ipython",
    "version": 3
   },
   "file_extension": ".py",
   "mimetype": "text/x-python",
   "name": "python",
   "nbconvert_exporter": "python",
   "pygments_lexer": "ipython3",
   "version": "3.10.9"
  }
 },
 "nbformat": 4,
 "nbformat_minor": 5
}
